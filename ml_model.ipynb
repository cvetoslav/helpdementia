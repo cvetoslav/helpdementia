{
  "metadata": {
    "language_info": {
      "codemirror_mode": {
        "name": "python",
        "version": 3
      },
      "file_extension": ".py",
      "mimetype": "text/x-python",
      "name": "python",
      "nbconvert_exporter": "python",
      "pygments_lexer": "ipython3",
      "version": "3.8"
    },
    "kernelspec": {
      "name": "python",
      "display_name": "Python (Pyodide)",
      "language": "python"
    }
  },
  "nbformat_minor": 4,
  "nbformat": 4,
  "cells": [
    {
      "cell_type": "markdown",
      "source": "## Dementia progression estimation using ML based on disease related survey answers",
      "metadata": {}
    },
    {
      "cell_type": "markdown",
      "source": "We developed a Machine Learning using **artificial neural network**. The input nodes of the network take the normalized values of the already evaluated answers of the patient to predefined questions, the inner part of the network consists of 3 densely connected hidden layers, each with 128 nodes. Output is one simple node indicating the _estimated progression_ of the disease (or probability of having mild cognitive impairment).\n\nThe results can then be used for automated self-assessment by completing a survey, better track of the patients and creating personalized surveys, which can more accurately determine the patient's condition.",
      "metadata": {}
    },
    {
      "cell_type": "code",
      "source": "import os\nimport random\nfrom pathlib import Path\nimport json\n\nimport keras.utils\nimport tensorflow as tf\nimport tensorflow_ranking as tfr",
      "metadata": {
        "trusted": true
      },
      "execution_count": null,
      "outputs": []
    },
    {
      "cell_type": "markdown",
      "source": "Extract training data from JSON formatted files (TODO: Requesting data from Web API integration):\n\nThe Data is formated like this: {\"ans\": [12, 53, 46, ..., 99], \"res\": 35}. The array contains the scores to every question in percents and the \"res\" is the overall evaluation value of how much the disease has progressed, also in percents.",
      "metadata": {}
    },
    {
      "cell_type": "code",
      "source": "train_data = []\ntrain_res = []\n\nfor f in os.listdir('data/train'):\n    data = json.loads(open('data/train/' + f).read())\n    train_data.append([x/100 for x in data['ans']])\n    ls = [data['res']/100]\n    train_res.append(ls)",
      "metadata": {},
      "execution_count": null,
      "outputs": []
    },
    {
      "cell_type": "markdown",
      "source": "Building the AI model using Tensorflow Keras library:",
      "metadata": {}
    },
    {
      "cell_type": "code",
      "source": "n = len(train_data[0])  # number of questions in the survey\n\nmodel = tf.keras.Sequential([\n    tf.keras.layers.Dense(128, activation='relu', input_dim=n),\n    tf.keras.layers.Dense(128, activation='relu'),\n    tf.keras.layers.Dense(128, activation='relu'),\n    tf.keras.layers.Dense(1, activation='softmax')\n])",
      "metadata": {},
      "execution_count": null,
      "outputs": []
    },
    {
      "cell_type": "markdown",
      "source": "We then compile the model and start training it with the data:",
      "metadata": {}
    },
    {
      "cell_type": "code",
      "source": "model.compile(optimizer='adam',\n              loss='categorical_crossentropy',\n              metrics=['accuracy'])\n\nmodel.fit(train_data, train_res, epochs=300)",
      "metadata": {
        "trusted": true
      },
      "execution_count": null,
      "outputs": []
    },
    {
      "cell_type": "markdown",
      "source": "When the model is well trained with classified data, we are ready for testing using the answers to arbitrary set of questions:\n\nThe result in the end is finally converted in percents and represents the predicted severity of dementia",
      "metadata": {}
    },
    {
      "cell_type": "code",
      "source": "test_data = []\n\nfor f in os.listdir('data/test'):\n    test_data.append([x/100 for x in json.loads(open('data/test/' + f).read())])\n\n\nfor ls in model.predict(test_data):\n    print(ls[0]*100)",
      "metadata": {},
      "execution_count": null,
      "outputs": []
    }
  ]
}
